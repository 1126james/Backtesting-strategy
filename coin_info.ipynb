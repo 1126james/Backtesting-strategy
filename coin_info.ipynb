{
 "cells": [
  {
   "cell_type": "code",
   "execution_count": 7,
   "metadata": {},
   "outputs": [],
   "source": [
    "import requests\n",
    "import pandas as pd\n",
    "\n"
   ]
  },
  {
   "cell_type": "code",
   "execution_count": 5,
   "metadata": {},
   "outputs": [],
   "source": [
    "# Define the CoinGecko API endpoint for the Bittensor (TAO) token\n",
    "api_url = \"https://api.coingecko.com/api/v3/coins/markets\"\n",
    "params = {\n",
    "    'vs_currency': 'usd',\n",
    "    'ids': 'harrypotterobamasonic10in'\n",
    "}\n",
    "\n",
    "# Fetch the market data from CoinGecko\n",
    "response = requests.get(api_url, params=params)\n"
   ]
  },
  {
   "cell_type": "code",
   "execution_count": 10,
   "metadata": {},
   "outputs": [
    {
     "name": "stdout",
     "output_type": "stream",
     "text": [
      "                          id   symbol                              name  \\\n",
      "0  harrypotterobamasonic10in  bitcoin  HarryPotterObamaSonic10Inu (ETH)   \n",
      "\n",
      "                                               image  current_price  \\\n",
      "0  https://coin-images.coingecko.com/coins/images...       0.108249   \n",
      "\n",
      "   market_cap  market_cap_rank  fully_diluted_valuation  total_volume  \\\n",
      "0   108170372              347                108170372       1254319   \n",
      "\n",
      "   high_24h  ...  total_supply    max_supply       ath  ath_change_percentage  \\\n",
      "0  0.118424  ...   999798155.0  1.000000e+09  0.260483               -58.4084   \n",
      "\n",
      "                   ath_date       atl  atl_change_percentage  \\\n",
      "0  2024-03-10T04:45:29.194Z  0.000663            16231.70284   \n",
      "\n",
      "                   atl_date   roi              last_updated  \n",
      "0  2023-05-31T23:11:46.784Z  None  2024-08-15T06:51:19.851Z  \n",
      "\n",
      "[1 rows x 26 columns]\n"
     ]
    }
   ],
   "source": [
    "if response.status_code == 200:\n",
    "    data = response.json()\n",
    "    if data:\n",
    "        # Convert the JSON data to a pandas DataFrame\n",
    "        df = pd.DataFrame(data)\n",
    "        \n",
    "        # Display the DataFrame\n",
    "        print(df)\n",
    "        \n",
    "        # Save the DataFrame to a CSV file\n",
    "        # df.to_csv('bittensor_tao_market_data.csv', index=False)\n",
    "    else:\n",
    "        print(\"No data found for Bittensor (TAO).\")\n",
    "else:\n",
    "    print(f\"Failed to fetch data: {response.status_code}\")"
   ]
  }
 ],
 "metadata": {
  "kernelspec": {
   "display_name": "Python 3",
   "language": "python",
   "name": "python3"
  },
  "language_info": {
   "codemirror_mode": {
    "name": "ipython",
    "version": 3
   },
   "file_extension": ".py",
   "mimetype": "text/x-python",
   "name": "python",
   "nbconvert_exporter": "python",
   "pygments_lexer": "ipython3",
   "version": "3.9.7"
  }
 },
 "nbformat": 4,
 "nbformat_minor": 2
}
