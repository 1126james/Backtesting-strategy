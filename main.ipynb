{
 "cells": [
  {
   "cell_type": "code",
   "execution_count": 39,
   "metadata": {},
   "outputs": [],
   "source": [
    "from backtesting import Backtest, Strategy\n",
    "from backtesting.test import GOOG\n",
    "from backtesting.lib import crossover\n",
    "from market_data import get_market_data\n",
    "import talib as tl\n",
    "import pandas as pd\n",
    "import numpy as np\n",
    "\n"
   ]
  },
  {
   "cell_type": "code",
   "execution_count": 3,
   "metadata": {},
   "outputs": [
    {
     "data": {
      "text/html": [
       "<div>\n",
       "<style scoped>\n",
       "    .dataframe tbody tr th:only-of-type {\n",
       "        vertical-align: middle;\n",
       "    }\n",
       "\n",
       "    .dataframe tbody tr th {\n",
       "        vertical-align: top;\n",
       "    }\n",
       "\n",
       "    .dataframe thead th {\n",
       "        text-align: right;\n",
       "    }\n",
       "</style>\n",
       "<table border=\"1\" class=\"dataframe\">\n",
       "  <thead>\n",
       "    <tr style=\"text-align: right;\">\n",
       "      <th></th>\n",
       "      <th>Open</th>\n",
       "      <th>High</th>\n",
       "      <th>Low</th>\n",
       "      <th>Close</th>\n",
       "    </tr>\n",
       "    <tr>\n",
       "      <th>date</th>\n",
       "      <th></th>\n",
       "      <th></th>\n",
       "      <th></th>\n",
       "      <th></th>\n",
       "    </tr>\n",
       "  </thead>\n",
       "  <tbody>\n",
       "    <tr>\n",
       "      <th>2024-07-16 12:00:00</th>\n",
       "      <td>0.135121</td>\n",
       "      <td>0.137704</td>\n",
       "      <td>0.131512</td>\n",
       "      <td>0.134365</td>\n",
       "    </tr>\n",
       "    <tr>\n",
       "      <th>2024-07-16 16:00:00</th>\n",
       "      <td>0.134176</td>\n",
       "      <td>0.138078</td>\n",
       "      <td>0.132313</td>\n",
       "      <td>0.138078</td>\n",
       "    </tr>\n",
       "    <tr>\n",
       "      <th>2024-07-16 20:00:00</th>\n",
       "      <td>0.138409</td>\n",
       "      <td>0.146245</td>\n",
       "      <td>0.138409</td>\n",
       "      <td>0.146245</td>\n",
       "    </tr>\n",
       "    <tr>\n",
       "      <th>2024-07-17 00:00:00</th>\n",
       "      <td>0.146697</td>\n",
       "      <td>0.148938</td>\n",
       "      <td>0.143899</td>\n",
       "      <td>0.148393</td>\n",
       "    </tr>\n",
       "    <tr>\n",
       "      <th>2024-07-17 04:00:00</th>\n",
       "      <td>0.148119</td>\n",
       "      <td>0.152227</td>\n",
       "      <td>0.145687</td>\n",
       "      <td>0.146270</td>\n",
       "    </tr>\n",
       "    <tr>\n",
       "      <th>2024-07-17 08:00:00</th>\n",
       "      <td>0.146090</td>\n",
       "      <td>0.150087</td>\n",
       "      <td>0.146090</td>\n",
       "      <td>0.148922</td>\n",
       "    </tr>\n",
       "    <tr>\n",
       "      <th>2024-07-17 12:00:00</th>\n",
       "      <td>0.148849</td>\n",
       "      <td>0.151686</td>\n",
       "      <td>0.142101</td>\n",
       "      <td>0.143546</td>\n",
       "    </tr>\n",
       "    <tr>\n",
       "      <th>2024-07-17 16:00:00</th>\n",
       "      <td>0.143415</td>\n",
       "      <td>0.144236</td>\n",
       "      <td>0.140687</td>\n",
       "      <td>0.143446</td>\n",
       "    </tr>\n",
       "    <tr>\n",
       "      <th>2024-07-17 20:00:00</th>\n",
       "      <td>0.143462</td>\n",
       "      <td>0.143509</td>\n",
       "      <td>0.136381</td>\n",
       "      <td>0.137154</td>\n",
       "    </tr>\n",
       "    <tr>\n",
       "      <th>2024-07-18 00:00:00</th>\n",
       "      <td>0.137406</td>\n",
       "      <td>0.137406</td>\n",
       "      <td>0.129729</td>\n",
       "      <td>0.130618</td>\n",
       "    </tr>\n",
       "  </tbody>\n",
       "</table>\n",
       "</div>"
      ],
      "text/plain": [
       "                         Open      High       Low     Close\n",
       "date                                                       \n",
       "2024-07-16 12:00:00  0.135121  0.137704  0.131512  0.134365\n",
       "2024-07-16 16:00:00  0.134176  0.138078  0.132313  0.138078\n",
       "2024-07-16 20:00:00  0.138409  0.146245  0.138409  0.146245\n",
       "2024-07-17 00:00:00  0.146697  0.148938  0.143899  0.148393\n",
       "2024-07-17 04:00:00  0.148119  0.152227  0.145687  0.146270\n",
       "2024-07-17 08:00:00  0.146090  0.150087  0.146090  0.148922\n",
       "2024-07-17 12:00:00  0.148849  0.151686  0.142101  0.143546\n",
       "2024-07-17 16:00:00  0.143415  0.144236  0.140687  0.143446\n",
       "2024-07-17 20:00:00  0.143462  0.143509  0.136381  0.137154\n",
       "2024-07-18 00:00:00  0.137406  0.137406  0.129729  0.130618"
      ]
     },
     "execution_count": 3,
     "metadata": {},
     "output_type": "execute_result"
    }
   ],
   "source": [
    "df = pd.DataFrame(get_market_data())\n",
    "df_4h = df.resample('4H').agg({\n",
    "    'Open': 'first',\n",
    "    'High': 'max',\n",
    "    'Low': 'min',\n",
    "    'Close': 'last'\n",
    "}).dropna()\n",
    "# # token_id: str = 'harrypotterobamasonic10in'\n",
    "# # intervals: int = 30\n",
    "# # currency: str = \"usd\"\n",
    "df_4h.head(10)\n"
   ]
  },
  {
   "cell_type": "code",
   "execution_count": 40,
   "metadata": {},
   "outputs": [],
   "source": [
    "class Tin(Strategy):\n",
    "    initial_investment = 100_000\n",
    "    pieces = 5\n",
    "    piece_value = initial_investment / pieces\n",
    "    current_investment = piece_value\n",
    "    profit_target = 1.5\n",
    "    loss_threshold = 0.7\n",
    "\n",
    "    def init(self):\n",
    "        self.price = self.data.Close\n",
    "\n",
    "    def next(self):\n",
    "        current_price = self.price[-1]\n",
    "        size = int(self.piece_value / current_price)\n",
    "\n",
    "        if not self.position:\n",
    "            self.buy(size=size)\n",
    "            buy_date = self.data.index[-1].date()\n",
    "            # print(f\"Buy order executed at: {buy_date}\")\n",
    "\n",
    "        for trade in self.trades:\n",
    "            if trade.pl >= self.piece_value * (self.profit_target - 1):\n",
    "                trade.close()\n",
    "                close_date = self.data.index[-1].date()\n",
    "                # print(f\"Position closed at: {close_date}\")\n",
    "            elif trade.pl <= -self.piece_value * (1 - self.loss_threshold):\n",
    "                trade.close()\n",
    "                close_date = self.data.index[-1].date()\n",
    "                # print(f\"Position closed at: {close_date}\")"
   ]
  },
  {
   "cell_type": "code",
   "execution_count": 23,
   "metadata": {},
   "outputs": [],
   "source": [
    "bt = Backtest(GOOG, Tin, cash=20_000, commission=.002)\n",
    "stats = bt.run()"
   ]
  },
  {
   "cell_type": "code",
   "execution_count": 41,
   "metadata": {},
   "outputs": [
    {
     "name": "stdout",
     "output_type": "stream",
     "text": [
      "   Size  EntryBar  ExitBar  EntryPrice  ExitPrice         PnL  ReturnPct  \\\n",
      "0    24         2      718   110.97150     525.00  9936.68400   3.730944   \n",
      "1    24       719     1074   525.92976     262.51 -6322.07424  -0.500865   \n",
      "2    24      1075     2024   269.79852     684.24  9946.59552   1.536115   \n",
      "3    24      2025     2147   685.36800     797.80  2698.36800   0.164046   \n",
      "\n",
      "   EntryTime   ExitTime  Duration  \n",
      "0 2004-08-23 2007-06-27 1038 days  \n",
      "1 2007-06-28 2008-11-21  512 days  \n",
      "2 2008-11-24 2012-08-30 1375 days  \n",
      "3 2012-08-31 2013-03-01  182 days  \n"
     ]
    }
   ],
   "source": [
    "trades = stats['_trades']\n",
    "print(trades)"
   ]
  },
  {
   "cell_type": "code",
   "execution_count": 42,
   "metadata": {},
   "outputs": [
    {
     "name": "stdout",
     "output_type": "stream",
     "text": [
      "Start                     2004-08-19 00:00:00\n",
      "End                       2013-03-01 00:00:00\n",
      "Duration                   3116 days 00:00:00\n",
      "Exposure Time [%]                    99.90689\n",
      "Equity Final [$]                  36259.57328\n",
      "Equity Peak [$]                   36476.77328\n",
      "Return [%]                          81.297866\n",
      "Buy & Hold Return [%]              703.458242\n",
      "Return (Ann.) [%]                    7.229487\n",
      "Volatility (Ann.) [%]               13.453883\n",
      "Sharpe Ratio                         0.537353\n",
      "Sortino Ratio                        0.844607\n",
      "Calmar Ratio                         0.215165\n",
      "Max. Drawdown [%]                   -33.59972\n",
      "Avg. Drawdown [%]                   -2.031719\n",
      "Max. Drawdown Duration     1786 days 00:00:00\n",
      "Avg. Drawdown Duration       56 days 00:00:00\n",
      "# Trades                                    4\n",
      "Win Rate [%]                             75.0\n",
      "Best Trade [%]                     373.094443\n",
      "Worst Trade [%]                    -50.086491\n",
      "Avg. Trade [%]                       62.48986\n",
      "Max. Trade Duration        1375 days 00:00:00\n",
      "Avg. Trade Duration         777 days 00:00:00\n",
      "Profit Factor                       10.843454\n",
      "Expectancy [%]                     123.256011\n",
      "SQN                                  1.052982\n",
      "_strategy                                 Tin\n",
      "_equity_curve                             ...\n",
      "_trades                      Size  EntryBa...\n",
      "dtype: object\n"
     ]
    },
    {
     "name": "stderr",
     "output_type": "stream",
     "text": [
      "BokehDeprecationWarning: Passing lists of formats for DatetimeTickFormatter scales was deprecated in Bokeh 3.0. Configure a single string format for each scale\n",
      "C:\\Users\\James\\AppData\\Roaming\\Python\\Python39\\site-packages\\backtesting\\_plotting.py:250: UserWarning: DatetimeFormatter scales now only accept a single format. Using the first provided: '%d %b'\n",
      "  formatter=DatetimeTickFormatter(days=['%d %b', '%a %d'],\n",
      "BokehDeprecationWarning: Passing lists of formats for DatetimeTickFormatter scales was deprecated in Bokeh 3.0. Configure a single string format for each scale\n",
      "C:\\Users\\James\\AppData\\Roaming\\Python\\Python39\\site-packages\\backtesting\\_plotting.py:250: UserWarning: DatetimeFormatter scales now only accept a single format. Using the first provided: '%m/%Y'\n",
      "  formatter=DatetimeTickFormatter(days=['%d %b', '%a %d'],\n",
      "C:\\Users\\James\\AppData\\Roaming\\Python\\Python39\\site-packages\\backtesting\\_plotting.py:659: UserWarning: found multiple competing values for 'toolbar.active_drag' property; using the latest value\n",
      "  fig = gridplot(\n",
      "C:\\Users\\James\\AppData\\Roaming\\Python\\Python39\\site-packages\\backtesting\\_plotting.py:659: UserWarning: found multiple competing values for 'toolbar.active_scroll' property; using the latest value\n",
      "  fig = gridplot(\n"
     ]
    },
    {
     "data": {
      "text/html": [
       "<div style=\"display: table;\"><div style=\"display: table-row;\"><div style=\"display: table-cell;\"><b title=\"bokeh.models.plots.GridPlot\">GridPlot</b>(</div><div style=\"display: table-cell;\">id&nbsp;=&nbsp;'p2282', <span id=\"p2311\" style=\"cursor: pointer;\">&hellip;)</span></div></div><div class=\"p2310\" style=\"display: none;\"><div style=\"display: table-cell;\"></div><div style=\"display: table-cell;\">align&nbsp;=&nbsp;'auto',</div></div><div class=\"p2310\" style=\"display: none;\"><div style=\"display: table-cell;\"></div><div style=\"display: table-cell;\">aspect_ratio&nbsp;=&nbsp;None,</div></div><div class=\"p2310\" style=\"display: none;\"><div style=\"display: table-cell;\"></div><div style=\"display: table-cell;\">children&nbsp;=&nbsp;[(figure(id='p2018', ...), 0, 0), (figure(id='p2115', ...), 1, 0), (figure(id='p1974', ...), 2, 0), (figure(id='p2170', ...), 3, 0)],</div></div><div class=\"p2310\" style=\"display: none;\"><div style=\"display: table-cell;\"></div><div style=\"display: table-cell;\">cols&nbsp;=&nbsp;None,</div></div><div class=\"p2310\" style=\"display: none;\"><div style=\"display: table-cell;\"></div><div style=\"display: table-cell;\">context_menu&nbsp;=&nbsp;None,</div></div><div class=\"p2310\" style=\"display: none;\"><div style=\"display: table-cell;\"></div><div style=\"display: table-cell;\">css_classes&nbsp;=&nbsp;[],</div></div><div class=\"p2310\" style=\"display: none;\"><div style=\"display: table-cell;\"></div><div style=\"display: table-cell;\">css_variables&nbsp;=&nbsp;{},</div></div><div class=\"p2310\" style=\"display: none;\"><div style=\"display: table-cell;\"></div><div style=\"display: table-cell;\">disabled&nbsp;=&nbsp;False,</div></div><div class=\"p2310\" style=\"display: none;\"><div style=\"display: table-cell;\"></div><div style=\"display: table-cell;\">elements&nbsp;=&nbsp;[],</div></div><div class=\"p2310\" style=\"display: none;\"><div style=\"display: table-cell;\"></div><div style=\"display: table-cell;\">flow_mode&nbsp;=&nbsp;'block',</div></div><div class=\"p2310\" style=\"display: none;\"><div style=\"display: table-cell;\"></div><div style=\"display: table-cell;\">height&nbsp;=&nbsp;None,</div></div><div class=\"p2310\" style=\"display: none;\"><div style=\"display: table-cell;\"></div><div style=\"display: table-cell;\">height_policy&nbsp;=&nbsp;'auto',</div></div><div class=\"p2310\" style=\"display: none;\"><div style=\"display: table-cell;\"></div><div style=\"display: table-cell;\">js_event_callbacks&nbsp;=&nbsp;{},</div></div><div class=\"p2310\" style=\"display: none;\"><div style=\"display: table-cell;\"></div><div style=\"display: table-cell;\">js_property_callbacks&nbsp;=&nbsp;{},</div></div><div class=\"p2310\" style=\"display: none;\"><div style=\"display: table-cell;\"></div><div style=\"display: table-cell;\">margin&nbsp;=&nbsp;None,</div></div><div class=\"p2310\" style=\"display: none;\"><div style=\"display: table-cell;\"></div><div style=\"display: table-cell;\">max_height&nbsp;=&nbsp;None,</div></div><div class=\"p2310\" style=\"display: none;\"><div style=\"display: table-cell;\"></div><div style=\"display: table-cell;\">max_width&nbsp;=&nbsp;None,</div></div><div class=\"p2310\" style=\"display: none;\"><div style=\"display: table-cell;\"></div><div style=\"display: table-cell;\">min_height&nbsp;=&nbsp;None,</div></div><div class=\"p2310\" style=\"display: none;\"><div style=\"display: table-cell;\"></div><div style=\"display: table-cell;\">min_width&nbsp;=&nbsp;None,</div></div><div class=\"p2310\" style=\"display: none;\"><div style=\"display: table-cell;\"></div><div style=\"display: table-cell;\">name&nbsp;=&nbsp;None,</div></div><div class=\"p2310\" style=\"display: none;\"><div style=\"display: table-cell;\"></div><div style=\"display: table-cell;\">resizable&nbsp;=&nbsp;False,</div></div><div class=\"p2310\" style=\"display: none;\"><div style=\"display: table-cell;\"></div><div style=\"display: table-cell;\">rows&nbsp;=&nbsp;None,</div></div><div class=\"p2310\" style=\"display: none;\"><div style=\"display: table-cell;\"></div><div style=\"display: table-cell;\">sizing_mode&nbsp;=&nbsp;'stretch_width',</div></div><div class=\"p2310\" style=\"display: none;\"><div style=\"display: table-cell;\"></div><div style=\"display: table-cell;\">spacing&nbsp;=&nbsp;0,</div></div><div class=\"p2310\" style=\"display: none;\"><div style=\"display: table-cell;\"></div><div style=\"display: table-cell;\">styles&nbsp;=&nbsp;{},</div></div><div class=\"p2310\" style=\"display: none;\"><div style=\"display: table-cell;\"></div><div style=\"display: table-cell;\">stylesheets&nbsp;=&nbsp;[],</div></div><div class=\"p2310\" style=\"display: none;\"><div style=\"display: table-cell;\"></div><div style=\"display: table-cell;\">subscribed_events&nbsp;=&nbsp;PropertyValueSet(),</div></div><div class=\"p2310\" style=\"display: none;\"><div style=\"display: table-cell;\"></div><div style=\"display: table-cell;\">syncable&nbsp;=&nbsp;True,</div></div><div class=\"p2310\" style=\"display: none;\"><div style=\"display: table-cell;\"></div><div style=\"display: table-cell;\">tags&nbsp;=&nbsp;[],</div></div><div class=\"p2310\" style=\"display: none;\"><div style=\"display: table-cell;\"></div><div style=\"display: table-cell;\">toolbar&nbsp;=&nbsp;Toolbar(id='p2281', ...),</div></div><div class=\"p2310\" style=\"display: none;\"><div style=\"display: table-cell;\"></div><div style=\"display: table-cell;\">toolbar_location&nbsp;=&nbsp;'right',</div></div><div class=\"p2310\" style=\"display: none;\"><div style=\"display: table-cell;\"></div><div style=\"display: table-cell;\">visible&nbsp;=&nbsp;True,</div></div><div class=\"p2310\" style=\"display: none;\"><div style=\"display: table-cell;\"></div><div style=\"display: table-cell;\">width&nbsp;=&nbsp;None,</div></div><div class=\"p2310\" style=\"display: none;\"><div style=\"display: table-cell;\"></div><div style=\"display: table-cell;\">width_policy&nbsp;=&nbsp;'auto')</div></div></div>\n",
       "<script>\n",
       "(function() {\n",
       "  let expanded = false;\n",
       "  const ellipsis = document.getElementById(\"p2311\");\n",
       "  ellipsis.addEventListener(\"click\", function() {\n",
       "    const rows = document.getElementsByClassName(\"p2310\");\n",
       "    for (let i = 0; i < rows.length; i++) {\n",
       "      const el = rows[i];\n",
       "      el.style.display = expanded ? \"none\" : \"table-row\";\n",
       "    }\n",
       "    ellipsis.innerHTML = expanded ? \"&hellip;)\" : \"&lsaquo;&lsaquo;&lsaquo;\";\n",
       "    expanded = !expanded;\n",
       "  });\n",
       "})();\n",
       "</script>\n"
      ],
      "text/plain": [
       "GridPlot(id='p2282', ...)"
      ]
     },
     "execution_count": 42,
     "metadata": {},
     "output_type": "execute_result"
    }
   ],
   "source": [
    "print(stats)\n",
    "bt.plot()"
   ]
  },
  {
   "cell_type": "code",
   "execution_count": 43,
   "metadata": {},
   "outputs": [
    {
     "name": "stdout",
     "output_type": "stream",
     "text": [
      "81.29786639999999\n"
     ]
    }
   ],
   "source": [
    "print(stats[6]) # Return [%]"
   ]
  },
  {
   "cell_type": "code",
   "execution_count": 36,
   "metadata": {},
   "outputs": [
    {
     "name": "stderr",
     "output_type": "stream",
     "text": [
      "C:\\Users\\James\\AppData\\Roaming\\Python\\Python39\\site-packages\\backtesting\\backtesting.py:1488: UserWarning: Searching for best of 400 configurations.\n",
      "  output = _optimize_grid()\n",
      "                                               \r"
     ]
    }
   ],
   "source": [
    "profit_target = tuple(float(f\"{x:.2f}\") for x in np.arange(1.05, 1.51, 0.05))\n",
    "loss_threshold = tuple(float(f\"{x:.2f}\") for x in np.arange(0.5, 0.951, 0.05))\n",
    "\n",
    "result = bt.optimize(\n",
    "    pieces=[2, 4, 5, 10],\n",
    "    profit_target=profit_target,\n",
    "    loss_threshold=loss_threshold,\n",
    "    maximize='Return [%]'\n",
    ")"
   ]
  },
  {
   "cell_type": "code",
   "execution_count": 38,
   "metadata": {},
   "outputs": [
    {
     "name": "stdout",
     "output_type": "stream",
     "text": [
      "87.79529040000001\n",
      "Tin(pieces=2,profit_target=1.2,loss_threshold=0.65)\n"
     ]
    }
   ],
   "source": [
    "print(result[6])\n",
    "print(result._strategy)"
   ]
  },
  {
   "cell_type": "code",
   "execution_count": 37,
   "metadata": {},
   "outputs": [
    {
     "data": {
      "text/plain": [
       "(0.5, 0.55, 0.6, 0.65, 0.7, 0.75, 0.8, 0.85, 0.9, 0.95)"
      ]
     },
     "execution_count": 37,
     "metadata": {},
     "output_type": "execute_result"
    }
   ],
   "source": [
    "tuple(float(f\"{x:.2f}\") for x in np.arange(0.5, 0.951, 0.05))"
   ]
  }
 ],
 "metadata": {
  "kernelspec": {
   "display_name": "Python 3",
   "language": "python",
   "name": "python3"
  },
  "language_info": {
   "codemirror_mode": {
    "name": "ipython",
    "version": 3
   },
   "file_extension": ".py",
   "mimetype": "text/x-python",
   "name": "python",
   "nbconvert_exporter": "python",
   "pygments_lexer": "ipython3",
   "version": "3.9.7"
  }
 },
 "nbformat": 4,
 "nbformat_minor": 2
}
